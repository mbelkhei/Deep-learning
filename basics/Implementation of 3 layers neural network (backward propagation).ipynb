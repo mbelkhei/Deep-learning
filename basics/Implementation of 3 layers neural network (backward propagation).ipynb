{
 "cells": [
  {
   "cell_type": "markdown",
   "metadata": {},
   "source": [
    "### Implementation of 3 layers neural network (backward propagation)\n"
   ]
  },
  {
   "cell_type": "code",
   "execution_count": 1,
   "metadata": {},
   "outputs": [
    {
     "name": "stdout",
     "output_type": "stream",
     "text": [
      "Type 1 if you choose to vary alpha, and 0 otherwise: 1\n",
      "\n",
      "Training With Alpha:0.001\n",
      "Error:0.501362713079\n",
      "Error:0.501052143223\n",
      "Error:0.500654849382\n",
      "Error:0.500344578005\n",
      "Error:0.500088769601\n",
      "Error:0.499860497202\n",
      "\n",
      "Training With Alpha:0.01\n",
      "Error:0.501362713079\n",
      "Error:0.498504050855\n",
      "Error:0.482140628237\n",
      "Error:0.357411251961\n",
      "Error:0.155751852473\n",
      "Error:0.0975414917236\n",
      "\n",
      "Training With Alpha:0.1\n",
      "Error:0.501362713079\n",
      "Error:0.043186766858\n",
      "Error:0.0255149221486\n",
      "Error:0.0196268894186\n",
      "Error:0.0164728501577\n",
      "Error:0.0144439715495\n",
      "\n",
      "Training With Alpha:1\n",
      "Error:0.501362713079\n",
      "Error:0.00976387487092\n",
      "Error:0.00670766367985\n",
      "Error:0.00540927072394\n",
      "Error:0.00465006419062\n",
      "Error:0.00413805323714\n",
      "\n",
      "Training With Alpha:10\n",
      "Error:0.501362713079\n",
      "Error:0.00277576670044\n",
      "Error:0.0019358032759\n",
      "Error:0.00156993421403\n",
      "Error:0.00135376282688\n",
      "Error:0.00120710393942\n",
      "\n",
      "Training With Alpha:100\n",
      "Error:0.501362713079\n",
      "Error:0.375281437996\n",
      "Error:0.375193655723\n",
      "Error:0.375156047863\n",
      "Error:0.375133999436\n",
      "Error:0.375119114658\n",
      "\n",
      "Training With Alpha:1000\n",
      "Error:0.501362713079\n",
      "Error:0.5\n",
      "Error:0.5\n",
      "Error:0.5\n",
      "Error:0.5\n",
      "Error:0.5\n"
     ]
    }
   ],
   "source": [
    "import numpy as np\n",
    "\n",
    "# sigmoid function\n",
    "def nonlin(x,deriv=False):\n",
    "    if(deriv==True):\n",
    "        return x*(1-x)\n",
    "\n",
    "    return 1/(1+np.exp(-x))\n",
    "\n",
    "def add_alpha(alpha=0):\n",
    "    if alpha==1:\n",
    "        return [0.001,0.01,0.1,1,10,100,1000]\n",
    "    else:\n",
    "        return [int(input('Enter value of alpha: '))]\n",
    "\n",
    "alphas = add_alpha(alpha=int(input('Type 1 if you choose to vary alpha, and 0 otherwise: ')))\n",
    "\n",
    "# input dataset\n",
    "X = np.array([[0,0,1],\n",
    "            [0,1,1],\n",
    "            [1,0,1],\n",
    "            [1,1,1]])\n",
    "\n",
    "# output dataset\n",
    "y = np.array([[0],\n",
    "              [1],\n",
    "              [1],\n",
    "              [0]])\n",
    "\n",
    "outputs_dic = {}\n",
    "for alpha in alphas:\n",
    "    print (\"\\nTraining With Alpha:\" + str(alpha))\n",
    "\n",
    "    # seed for reproductability\n",
    "    np.random.seed(7)\n",
    "\n",
    "    # randomly initialize our weights with mean 0\n",
    "    syn0 = 2*np.random.random((3,4)) - 1\n",
    "    syn1 = 2*np.random.random((4,1)) - 1\n",
    "    \n",
    "    lowest_error = 1\n",
    "    for j in range(60000):\n",
    "\n",
    "        # Feed forward through layers 0, 1, and 2\n",
    "        l0 = X\n",
    "        l1 = nonlin(np.dot(l0,syn0))\n",
    "        l2 = nonlin(np.dot(l1,syn1))\n",
    "\n",
    "        # what is the error\n",
    "        l2_error = y - l2\n",
    "\n",
    "        if (j% 10000) == 0:\n",
    "            print (\"Error:\" + str(np.mean(np.abs(l2_error))))\n",
    "\n",
    "        # in what direction is the target value? how much is the rate of change\n",
    "        l2_delta = l2_error*nonlin(l2,deriv=True)\n",
    "\n",
    "        # how much did each l1 value contribute to the l2 error (according to the weights)?\n",
    "        l1_error = l2_delta.dot(syn1.T)\n",
    "\n",
    "        # in what direction is the target l1? how much is the rate of change\n",
    "        l1_delta = l1_error * nonlin(l1,deriv=True)\n",
    "\n",
    "        syn1 += alpha*l1.T.dot(l2_delta)\n",
    "        syn0 += alpha*l0.T.dot(l1_delta)\n",
    "        \n",
    "        if np.mean(np.abs(l2_error))<lowest_error:\n",
    "            lowest_error = np.mean(np.abs(l2_error))\n",
    "    \n",
    "    outputs_dic[alpha] = {'lowest_error':lowest_error,'output':l2}"
   ]
  },
  {
   "cell_type": "code",
   "execution_count": 2,
   "metadata": {},
   "outputs": [
    {
     "data": {
      "text/plain": [
       "{0.001: {'lowest_error': 0.4996395524134753, 'output': array([[ 0.52036512],\n",
       "         [ 0.50233518],\n",
       "         [ 0.50060855],\n",
       "         [ 0.48113682]])},\n",
       " 0.01: {'lowest_error': 0.074212824492294854, 'output': array([[ 0.07957674],\n",
       "         [ 0.92442411],\n",
       "         [ 0.92746989],\n",
       "         [ 0.06916856]])},\n",
       " 0.1: {'lowest_error': 0.013002860881219845, 'output': array([[ 0.01392872],\n",
       "         [ 0.98584881],\n",
       "         [ 0.98835061],\n",
       "         [ 0.01228214]])},\n",
       " 1: {'lowest_error': 0.0037632434526633902, 'output': array([[ 0.00403242],\n",
       "         [ 0.99581133],\n",
       "         [ 0.99673274],\n",
       "         [ 0.00356462]])},\n",
       " 10: {'lowest_error': 0.0010993197180327052,\n",
       "  'output': array([[  6.60032883e-04],\n",
       "         [  9.98699810e-01],\n",
       "         [  9.99103847e-01],\n",
       "         [  1.54090335e-03]])},\n",
       " 100: {'lowest_error': 0.37510821446469944,\n",
       "  'output': array([[  4.32090186e-04],\n",
       "         [  4.99999598e-01],\n",
       "         [  4.99999634e-01],\n",
       "         [  5.00000000e-01]])},\n",
       " 1000: {'lowest_error': 0.5, 'output': array([[ 1.],\n",
       "         [ 1.],\n",
       "         [ 1.],\n",
       "         [ 1.]])}}"
      ]
     },
     "execution_count": 2,
     "metadata": {},
     "output_type": "execute_result"
    }
   ],
   "source": [
    "# have a look at the outputs of the lowest error for every alpha\n",
    "outputs_dic"
   ]
  },
  {
   "cell_type": "code",
   "execution_count": 3,
   "metadata": {},
   "outputs": [
    {
     "data": {
      "text/plain": [
       "0.0010993197180327052"
      ]
     },
     "execution_count": 3,
     "metadata": {},
     "output_type": "execute_result"
    }
   ],
   "source": [
    "# when alpha is 10, the network realizes the lowest error\n",
    "outputs_dic[10]['lowest_error']"
   ]
  },
  {
   "cell_type": "code",
   "execution_count": 4,
   "metadata": {},
   "outputs": [
    {
     "data": {
      "text/plain": [
       "array([[ 0.52036512],\n",
       "       [ 0.50233518],\n",
       "       [ 0.50060855],\n",
       "       [ 0.48113682]])"
      ]
     },
     "execution_count": 4,
     "metadata": {},
     "output_type": "execute_result"
    }
   ],
   "source": [
    "# choosing the right learning rate is crucial in building a good model\n",
    "# print the output when alpha = 0.001\n",
    "outputs_dic[0.001]['output']"
   ]
  },
  {
   "cell_type": "code",
   "execution_count": 5,
   "metadata": {},
   "outputs": [
    {
     "data": {
      "text/plain": [
       "array([[  6.60032883e-04],\n",
       "       [  9.98699810e-01],\n",
       "       [  9.99103847e-01],\n",
       "       [  1.54090335e-03]])"
      ]
     },
     "execution_count": 5,
     "metadata": {},
     "output_type": "execute_result"
    }
   ],
   "source": [
    "# print the output when alpha = 10 \n",
    "outputs_dic[10]['output']"
   ]
  },
  {
   "cell_type": "code",
   "execution_count": 6,
   "metadata": {},
   "outputs": [
    {
     "data": {
      "text/plain": [
       "array([[ 1.],\n",
       "       [ 1.],\n",
       "       [ 1.],\n",
       "       [ 1.]])"
      ]
     },
     "execution_count": 6,
     "metadata": {},
     "output_type": "execute_result"
    }
   ],
   "source": [
    "# print the output when alpha = 1000\n",
    "outputs_dic[1000]['output']"
   ]
  },
  {
   "cell_type": "code",
   "execution_count": null,
   "metadata": {
    "collapsed": true
   },
   "outputs": [],
   "source": []
  }
 ],
 "metadata": {
  "kernelspec": {
   "display_name": "Python 3",
   "language": "python",
   "name": "python3"
  },
  "language_info": {
   "codemirror_mode": {
    "name": "ipython",
    "version": 3
   },
   "file_extension": ".py",
   "mimetype": "text/x-python",
   "name": "python",
   "nbconvert_exporter": "python",
   "pygments_lexer": "ipython3",
   "version": "3.5.4"
  }
 },
 "nbformat": 4,
 "nbformat_minor": 2
}
